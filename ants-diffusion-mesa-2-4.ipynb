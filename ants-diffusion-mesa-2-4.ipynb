{
 "cells": [
  {
   "cell_type": "code",
   "execution_count": 1,
   "id": "c08613e6",
   "metadata": {
    "execution": {
     "iopub.execute_input": "2024-10-29T13:33:40.211331Z",
     "iopub.status.busy": "2024-10-29T13:33:40.210749Z",
     "iopub.status.idle": "2024-10-29T13:34:02.453943Z",
     "shell.execute_reply": "2024-10-29T13:34:02.452150Z"
    },
    "papermill": {
     "duration": 22.255368,
     "end_time": "2024-10-29T13:34:02.457140",
     "exception": false,
     "start_time": "2024-10-29T13:33:40.201772",
     "status": "completed"
    },
    "tags": []
   },
   "outputs": [],
   "source": [
    "!pip install --quiet mesa"
   ]
  },
  {
   "cell_type": "markdown",
   "id": "30b21695",
   "metadata": {
    "papermill": {
     "duration": 0.005995,
     "end_time": "2024-10-29T13:34:02.469997",
     "exception": false,
     "start_time": "2024-10-29T13:34:02.464002",
     "status": "completed"
    },
    "tags": []
   },
   "source": [
    "# Basic Mesa Setup"
   ]
  },
  {
   "cell_type": "code",
   "execution_count": 2,
   "id": "8bb9056b",
   "metadata": {
    "execution": {
     "iopub.execute_input": "2024-10-29T13:34:02.484719Z",
     "iopub.status.busy": "2024-10-29T13:34:02.484280Z",
     "iopub.status.idle": "2024-10-29T13:34:05.193251Z",
     "shell.execute_reply": "2024-10-29T13:34:05.191993Z"
    },
    "papermill": {
     "duration": 2.719937,
     "end_time": "2024-10-29T13:34:05.196322",
     "exception": false,
     "start_time": "2024-10-29T13:34:02.476385",
     "status": "completed"
    },
    "tags": []
   },
   "outputs": [],
   "source": [
    "import numpy as np\n",
    "import math\n",
    "\n",
    "from plotnine import * \n",
    "import pandas as pd\n",
    "\n",
    "from mesa import Model, Agent\n",
    "from mesa.time import SimultaneousActivation\n",
    "from mesa.space import MultiGrid\n",
    "from mesa.datacollection import DataCollector\n",
    "from mesa.batchrunner import batch_run"
   ]
  },
  {
   "cell_type": "markdown",
   "id": "a979c4cc",
   "metadata": {
    "papermill": {
     "duration": 0.005912,
     "end_time": "2024-10-29T13:34:05.208627",
     "exception": false,
     "start_time": "2024-10-29T13:34:05.202715",
     "status": "completed"
    },
    "tags": []
   },
   "source": [
    "# Agents\n",
    "\n",
    "## Environment\n",
    "\n",
    "The cells of the environment can hold and disperse pheromone. The are updated simultaneously."
   ]
  },
  {
   "cell_type": "code",
   "execution_count": 3,
   "id": "2c30e153",
   "metadata": {
    "execution": {
     "iopub.execute_input": "2024-10-29T13:34:05.223135Z",
     "iopub.status.busy": "2024-10-29T13:34:05.222443Z",
     "iopub.status.idle": "2024-10-29T13:34:05.235624Z",
     "shell.execute_reply": "2024-10-29T13:34:05.234432Z"
    },
    "papermill": {
     "duration": 0.023527,
     "end_time": "2024-10-29T13:34:05.238368",
     "exception": false,
     "start_time": "2024-10-29T13:34:05.214841",
     "status": "completed"
    },
    "tags": []
   },
   "outputs": [],
   "source": [
    "class Environment(Agent):\n",
    "    \"\"\"\n",
    "    A cell representing the Environment that will hold the chemical being\n",
    "    disbursed, and then reduce that amount through diffusion and evaporation.\n",
    "    \"\"\"\n",
    "\n",
    "    def __init__(self, unique_id, pos, model):\n",
    "        \"\"\"\n",
    "        Create a new cell.\n",
    "        Args:\n",
    "            unique_id: a unique value to distinguish the agent\n",
    "            pos: The cell's coordinates on the grid.\n",
    "            model: standard model reference for agent.\n",
    "        \"\"\"\n",
    "        super().__init__(unique_id, model)\n",
    "        self.amount = 0.0\n",
    "\n",
    "    def step(self):\n",
    "        \"\"\"\n",
    "        Find the sum of chemical in the neighboring environment, including this\n",
    "        cell, then set this cell to be the diffused and evaporated amount.\n",
    "        \"\"\"\n",
    "        all_p = self.amount\n",
    "        neighbors = [n for n in self.model.grid.get_neighbors(self.pos, True) if type(n) is Environment]\n",
    "        for n in neighbors:\n",
    "            all_p += n.amount\n",
    "        ave_p = all_p / (len(neighbors) + 1)\n",
    "\n",
    "        self._nextAmount = (1 - self.model.evaporate) * \\\n",
    "            (self.amount + (self.model.diffusion * \\\n",
    "                                (ave_p - self.amount)))\n",
    "\n",
    "        if self._nextAmount < self.model.lowerbound:\n",
    "            self._nextAmount = 0\n",
    "\n",
    "    def advance(self):\n",
    "        \"\"\"\n",
    "        Set the state to the new computed state -- computed in step().\n",
    "        \"\"\"\n",
    "        self.amount = self._nextAmount\n",
    "\n",
    "    def add(self, amount):\n",
    "        \"\"\"\n",
    "        Add the amount to the cell's amount\n",
    "        \"\"\"\n",
    "        self.amount += amount\n",
    "\n",
    "    def get_pos(self):\n",
    "        return self.pos"
   ]
  },
  {
   "cell_type": "markdown",
   "id": "639a3173",
   "metadata": {
    "papermill": {
     "duration": 0.005942,
     "end_time": "2024-10-29T13:34:05.250723",
     "exception": false,
     "start_time": "2024-10-29T13:34:05.244781",
     "status": "completed"
    },
    "tags": []
   },
   "source": [
    "## Home\n",
    "\n",
    "The home agent is where the ants start and where they return when they have found food."
   ]
  },
  {
   "cell_type": "code",
   "execution_count": 4,
   "id": "faa7c33b",
   "metadata": {
    "execution": {
     "iopub.execute_input": "2024-10-29T13:34:05.265115Z",
     "iopub.status.busy": "2024-10-29T13:34:05.264658Z",
     "iopub.status.idle": "2024-10-29T13:34:05.271790Z",
     "shell.execute_reply": "2024-10-29T13:34:05.270424Z"
    },
    "papermill": {
     "duration": 0.017469,
     "end_time": "2024-10-29T13:34:05.274473",
     "exception": false,
     "start_time": "2024-10-29T13:34:05.257004",
     "status": "completed"
    },
    "tags": []
   },
   "outputs": [],
   "source": [
    "class Home(Agent):\n",
    "    \"\"\"\n",
    "    The home of the ants, recording how much food has been harvested.\n",
    "    \"\"\"\n",
    "    def __init__(self, unique_id, pos, model):\n",
    "        \"\"\"\n",
    "        Records the unique_id with the super, and saves the pos.\n",
    "        Initializes the food amount to 0.\n",
    "        \"\"\"\n",
    "        super().__init__(unique_id, model)\n",
    "        #self.pos = pos\n",
    "        self.amount = 0\n",
    "\n",
    "    def add(self, amount):\n",
    "        \"\"\"\n",
    "        Add the amount to the home amount\n",
    "        \"\"\"\n",
    "        self.amount += amount"
   ]
  },
  {
   "cell_type": "markdown",
   "id": "b25f86c2",
   "metadata": {
    "papermill": {
     "duration": 0.006339,
     "end_time": "2024-10-29T13:34:05.287568",
     "exception": false,
     "start_time": "2024-10-29T13:34:05.281229",
     "status": "completed"
    },
    "tags": []
   },
   "source": [
    "## Food\n",
    "\n",
    "Food centers are in the world at certain locations, and dispense one piece of food for ants."
   ]
  },
  {
   "cell_type": "code",
   "execution_count": 5,
   "id": "230f12e2",
   "metadata": {
    "execution": {
     "iopub.execute_input": "2024-10-29T13:34:05.303328Z",
     "iopub.status.busy": "2024-10-29T13:34:05.302867Z",
     "iopub.status.idle": "2024-10-29T13:34:05.311118Z",
     "shell.execute_reply": "2024-10-29T13:34:05.309873Z"
    },
    "papermill": {
     "duration": 0.018702,
     "end_time": "2024-10-29T13:34:05.313657",
     "exception": false,
     "start_time": "2024-10-29T13:34:05.294955",
     "status": "completed"
    },
    "tags": []
   },
   "outputs": [],
   "source": [
    "class Food(Agent):\n",
    "    \"\"\"\n",
    "    A food cache for the ants, recording how much food is available.\n",
    "    \"\"\"\n",
    "    def __init__(self, unique_id, model):\n",
    "        \"\"\"\n",
    "        Records the unique_id with the super.\n",
    "        Initializes the food amount to 0.\n",
    "        \"\"\"\n",
    "        super().__init__(unique_id, model)\n",
    "        self.amount = 0\n",
    "\n",
    "    def add(self, amount):\n",
    "        \"\"\"\n",
    "        Add the amount to the food amount\n",
    "        \"\"\"\n",
    "        self.amount += amount\n",
    "\n",
    "    def eaten(self):\n",
    "        \"\"\"\n",
    "        Removes one food if there are any available\n",
    "        \"\"\"\n",
    "        if self.any_food():\n",
    "            self.amount -= 1\n",
    "\n",
    "    def any_food(self):\n",
    "        \"\"\"\n",
    "        Returns a bool to show if there is food available\n",
    "        \"\"\"\n",
    "        return self.amount > 0"
   ]
  },
  {
   "cell_type": "markdown",
   "id": "005e4fcd",
   "metadata": {
    "papermill": {
     "duration": 0.005954,
     "end_time": "2024-10-29T13:34:05.326014",
     "exception": false,
     "start_time": "2024-10-29T13:34:05.320060",
     "status": "completed"
    },
    "tags": []
   },
   "source": [
    "## Ants\n",
    "\n",
    "Ants are the only agent that moves in this model. It searches the environment gradient for the highest pheromone, picks up food when at a food center, and returns home with food, dropping new pheromone on the way."
   ]
  },
  {
   "cell_type": "code",
   "execution_count": 6,
   "id": "87f92b9c",
   "metadata": {
    "execution": {
     "iopub.execute_input": "2024-10-29T13:34:05.341048Z",
     "iopub.status.busy": "2024-10-29T13:34:05.340577Z",
     "iopub.status.idle": "2024-10-29T13:34:05.366609Z",
     "shell.execute_reply": "2024-10-29T13:34:05.365441Z"
    },
    "papermill": {
     "duration": 0.036904,
     "end_time": "2024-10-29T13:34:05.369394",
     "exception": false,
     "start_time": "2024-10-29T13:34:05.332490",
     "status": "completed"
    },
    "tags": []
   },
   "outputs": [],
   "source": [
    "# from sugarscape_cg\n",
    "def get_distance(pos_1, pos_2):\n",
    "    \"\"\" Get the distance between two point\n",
    "\n",
    "    Args:\n",
    "        pos_1, pos_2: Coordinate tuples for both points.\n",
    "\n",
    "    \"\"\"\n",
    "    x1, y1 = pos_1\n",
    "    x2, y2 = pos_2\n",
    "    dx = x1 - x2\n",
    "    dy = y1 - y2\n",
    "    return math.sqrt(dx ** 2 + dy ** 2)\n",
    "\n",
    "class Ant(Agent):\n",
    "    \"\"\"\n",
    "    The ants wander around the world in search of food. Upon finding food,\n",
    "    they drop a pheremone trail while heading home to store the food. When\n",
    "    wandering, they either follow the strongest gradient of pheremone, or move randomly.\n",
    "    \"\"\"\n",
    "    def __init__(self, unique_id, home, model, moore=True):\n",
    "        super().__init__(unique_id, model)\n",
    "        #self.pos = home.pos\n",
    "        self.state = \"FORAGING\"\n",
    "        self.drop = 0\n",
    "        self.home = home\n",
    "        self.moore = moore\n",
    "\n",
    "    # derived from Sugarscape get_sugar()\n",
    "    def get_item(self, item):\n",
    "        \"\"\"\n",
    "        Finds the Agent of type item at this location in the Grid\n",
    "        \"\"\"\n",
    "        this_cell = self.model.grid.get_cell_list_contents([self.pos])\n",
    "        for agent in this_cell:\n",
    "            if type(agent) is item:\n",
    "                return agent\n",
    "\n",
    "    def step(self):\n",
    "        \"\"\"\n",
    "        Ants will either be FORAGING for food or HOMING in on the home location.\n",
    "        If a FORAGING ant finds food, they eat it and begin HOMING, otherwise they\n",
    "        wander either randomly or following the pheromone gradient.\n",
    "        If a HOMING agent is home, they deposit their food and return FORAGING,\n",
    "        otherwise they drop pheromone and take one step closer to home.\n",
    "        \"\"\"\n",
    "        if self.state == \"FORAGING\":\n",
    "            # Look for Food\n",
    "            food = self.get_item(Food)\n",
    "\n",
    "            if food is not None and food.any_food(): # Eat the food and then head home\n",
    "                food.eaten()\n",
    "                self.state = \"HOMING\"\n",
    "                self.drop = self.model.initdrop\n",
    "\n",
    "            else: # Not on food, move (up gradient or wander)\n",
    "                if self.random.random() < self.model.prob_random:\n",
    "                    self.random_move()\n",
    "                else:\n",
    "                    self.gradient_move()\n",
    "\n",
    "\n",
    "        else: #HOMING\n",
    "            # If Home, then go back to FORAGING\n",
    "            if self.pos == self.home.pos:\n",
    "                home = self.get_item(Home)\n",
    "                home.add(1)\n",
    "                self.state = \"FORAGING\"\n",
    "                self.drop = 0\n",
    "            else: #drop pheremone, and move toward home\n",
    "                self.drop_pheromone()\n",
    "                self.home_move()\n",
    "\n",
    "    def drop_pheromone(self):\n",
    "        \"\"\"\n",
    "        Leave pheromone in the Environment and reduce the pheromone drop\n",
    "        \"\"\"\n",
    "        env = self.get_item(Environment)\n",
    "        env.add(self.drop)\n",
    "        self.drop *= self.model.drop_rate\n",
    "\n",
    "    # from wolf_sheep RandomWalker\n",
    "    def random_move(self):\n",
    "        \"\"\"\n",
    "        Step one cell in any allowable direction.\n",
    "        \"\"\"\n",
    "        # Pick the next cell from the adjacent cells.\n",
    "        next_moves = self.model.grid.get_neighborhood(self.pos, self.moore, True)\n",
    "        next_move = self.random.choice(next_moves)\n",
    "        # Now move:\n",
    "        self.model.grid.move_agent(self, next_move)\n",
    "\n",
    "    # adapted from Sugarscape\n",
    "    def home_move(self):\n",
    "        \"\"\"\n",
    "        Step one cell toward self.home.pos.\n",
    "        \"\"\"\n",
    "        # Get neighborhood within vision\n",
    "        neighbors = [n.get_pos() for n in self.model.grid.get_neighbors(self.pos, self.moore) if type(n) is Environment]\n",
    "\n",
    "        # Narrow down to the nearest ones to home\n",
    "        min_dist = min([get_distance(self.home.pos, pos) for pos in neighbors])\n",
    "        final_candidates = [\n",
    "            pos for pos in neighbors if get_distance(self.home.pos, pos) == min_dist\n",
    "        ]\n",
    "        self.random.shuffle(final_candidates)\n",
    "        self.model.grid.move_agent(self, final_candidates[0])\n",
    "\n",
    "    def gradient_move(self):\n",
    "        \"\"\"\n",
    "        Step one cell to the pheromone gradient in the Environment\n",
    "        \"\"\"\n",
    "        # Find the neighbor Environment cell that has the highest pheromone amount\n",
    "        where = (0, 0)\n",
    "        maxp = self.model.lowerbound\n",
    "        neighbors = [n for n in self.model.grid.get_neighbors(self.pos, self.moore) if type(n) is Environment]\n",
    "        for n in neighbors:\n",
    "            if n.amount > maxp:\n",
    "                maxp = n.amount\n",
    "                where = n.get_pos()\n",
    "\n",
    "        # When something looks interesting, move there, otherwise randomly move\n",
    "        if maxp > self.model.lowerbound:\n",
    "            self.model.grid.move_agent(self, where)\n",
    "        else:\n",
    "            self.random_move()\n"
   ]
  },
  {
   "cell_type": "markdown",
   "id": "64616efd",
   "metadata": {
    "papermill": {
     "duration": 0.005931,
     "end_time": "2024-10-29T13:34:05.381651",
     "exception": false,
     "start_time": "2024-10-29T13:34:05.375720",
     "status": "completed"
    },
    "tags": []
   },
   "source": [
    "# Model\n",
    "\n",
    "The AntWorld creates all of the agents and collects data about the food levels of each center and the home space."
   ]
  },
  {
   "cell_type": "code",
   "execution_count": 7,
   "id": "c69e80cc",
   "metadata": {
    "execution": {
     "iopub.execute_input": "2024-10-29T13:34:05.396536Z",
     "iopub.status.busy": "2024-10-29T13:34:05.396063Z",
     "iopub.status.idle": "2024-10-29T13:34:05.414554Z",
     "shell.execute_reply": "2024-10-29T13:34:05.413175Z"
    },
    "papermill": {
     "duration": 0.029097,
     "end_time": "2024-10-29T13:34:05.417089",
     "exception": false,
     "start_time": "2024-10-29T13:34:05.387992",
     "status": "completed"
    },
    "tags": []
   },
   "outputs": [],
   "source": [
    "# derived from ConwaysGameOfLife\n",
    "class AntWorld(Model):\n",
    "    \"\"\"\n",
    "    Represents the ants foraging for food.\n",
    "    \"\"\"\n",
    "\n",
    "    def __init__(self, height=50, width=50, evaporate=0.5, diffusion=1, initdrop=100, lowerbound=0.01, prob_random=0.1, drop_rate=0.9):\n",
    "        \"\"\"\n",
    "        Create a new playing area of (height, width) cells.\n",
    "        \"\"\"\n",
    "\n",
    "        super().__init__()\n",
    "        self.evaporate = evaporate\n",
    "        self.diffusion = diffusion\n",
    "        self.initdrop = initdrop\n",
    "        self.lowerbound = lowerbound\n",
    "        self.prob_random = prob_random\n",
    "        self.drop_rate = drop_rate\n",
    "\n",
    "        # Set up the grid and schedule.\n",
    "\n",
    "        # Use SimultaneousActivation which simulates all the cells\n",
    "        # computing their next state simultaneously.  This needs to\n",
    "        # be done because each cell's next state depends on the current\n",
    "        # state of all its neighbors -- before they've changed.\n",
    "        self.schedule = SimultaneousActivation(self)\n",
    "\n",
    "        # Use a simple grid, where edges wrap around.\n",
    "        self.grid = MultiGrid(height, width, torus=True)\n",
    "        \n",
    "        # Define pos for the initial home and food locations\n",
    "        homeloc = (25, 25)\n",
    "        food_locs = ((22, 11), (35, 8), (18, 33))\n",
    "\n",
    "        self.home = Home(self.next_id(), homeloc, self)\n",
    "        self.foods = []\n",
    "        self.grid.place_agent(self.home, homeloc)\n",
    "        self.schedule.add(self.home)\n",
    "\n",
    "        # Add in the ants\n",
    "        # Need to do this first, or it won't affect the cells, consequence of SimultaneousActivation\n",
    "        for i in range(100):\n",
    "            ant = Ant(self.next_id(), self.home, self)\n",
    "            self.grid.place_agent(ant, self.home.pos)\n",
    "            self.schedule.add(ant)\n",
    "\n",
    "        # Add the food locations\n",
    "        for loc in food_locs:\n",
    "            food = Food(self.next_id(), self)\n",
    "            food.add(100)\n",
    "            self.foods.append(food)\n",
    "            self.grid.place_agent(food, loc)\n",
    "            self.schedule.add(food)\n",
    "\n",
    "        # Place an environment cell at each location\n",
    "        for contents, (x, y) in self.grid.coord_iter():\n",
    "            cell = Environment(self.next_id(), (x, y), self)\n",
    "            self.grid.place_agent(cell, (x, y))\n",
    "            self.schedule.add(cell)\n",
    "\n",
    "        self.running = True\n",
    "        \n",
    "        # Recording of the data\n",
    "        self.dc = DataCollector({\"Home\": lambda m: self.home.amount,\n",
    "                        \"Loc 1\": lambda m: self.foods[0].amount,\n",
    "                        \"Loc 2\": lambda m: self.foods[1].amount,\n",
    "                        \"Loc 3\": lambda m: self.foods[2].amount\n",
    "                        })\n",
    "\n",
    "    def step(self):\n",
    "        \"\"\"\n",
    "        Have the scheduler advance each cell by one step\n",
    "        \"\"\"\n",
    "        self.schedule.step()\n",
    "        self.dc.collect(self)\n",
    "\n",
    "\n",
    "        # stop when all the food is collected\n",
    "        if self.home.amount == 300 or self.schedule.time > 1000:\n",
    "            self.running = False"
   ]
  },
  {
   "cell_type": "markdown",
   "id": "1eeb1f2e",
   "metadata": {
    "papermill": {
     "duration": 0.005985,
     "end_time": "2024-10-29T13:34:05.429393",
     "exception": false,
     "start_time": "2024-10-29T13:34:05.423408",
     "status": "completed"
    },
    "tags": []
   },
   "source": [
    "# Running the Model\n",
    "\n",
    "Here we create the model and run the simulation for 1000 timesteps at most. We gather the data from the collector into a pandas DataFrame for easy visualization with plotnine."
   ]
  },
  {
   "cell_type": "code",
   "execution_count": 8,
   "id": "2dd901f0",
   "metadata": {
    "execution": {
     "iopub.execute_input": "2024-10-29T13:34:05.444363Z",
     "iopub.status.busy": "2024-10-29T13:34:05.443886Z",
     "iopub.status.idle": "2024-10-29T13:34:36.528223Z",
     "shell.execute_reply": "2024-10-29T13:34:36.526999Z"
    },
    "papermill": {
     "duration": 31.095365,
     "end_time": "2024-10-29T13:34:36.531217",
     "exception": false,
     "start_time": "2024-10-29T13:34:05.435852",
     "status": "completed"
    },
    "tags": []
   },
   "outputs": [],
   "source": [
    "ants = AntWorld()\n",
    "ants.run_model()\n",
    "results = ants.dc.get_model_vars_dataframe()"
   ]
  },
  {
   "cell_type": "code",
   "execution_count": 9,
   "id": "e1705fba",
   "metadata": {
    "execution": {
     "iopub.execute_input": "2024-10-29T13:34:36.546663Z",
     "iopub.status.busy": "2024-10-29T13:34:36.546157Z",
     "iopub.status.idle": "2024-10-29T13:34:36.575706Z",
     "shell.execute_reply": "2024-10-29T13:34:36.574323Z"
    },
    "papermill": {
     "duration": 0.041115,
     "end_time": "2024-10-29T13:34:36.579159",
     "exception": false,
     "start_time": "2024-10-29T13:34:36.538044",
     "status": "completed"
    },
    "tags": []
   },
   "outputs": [
    {
     "data": {
      "text/html": [
       "<div>\n",
       "<style scoped>\n",
       "    .dataframe tbody tr th:only-of-type {\n",
       "        vertical-align: middle;\n",
       "    }\n",
       "\n",
       "    .dataframe tbody tr th {\n",
       "        vertical-align: top;\n",
       "    }\n",
       "\n",
       "    .dataframe thead th {\n",
       "        text-align: right;\n",
       "    }\n",
       "</style>\n",
       "<table border=\"1\" class=\"dataframe\">\n",
       "  <thead>\n",
       "    <tr style=\"text-align: right;\">\n",
       "      <th></th>\n",
       "      <th>Home</th>\n",
       "      <th>Loc 1</th>\n",
       "      <th>Loc 2</th>\n",
       "      <th>Loc 3</th>\n",
       "    </tr>\n",
       "  </thead>\n",
       "  <tbody>\n",
       "    <tr>\n",
       "      <th>0</th>\n",
       "      <td>0</td>\n",
       "      <td>100</td>\n",
       "      <td>100</td>\n",
       "      <td>100</td>\n",
       "    </tr>\n",
       "    <tr>\n",
       "      <th>1</th>\n",
       "      <td>0</td>\n",
       "      <td>100</td>\n",
       "      <td>100</td>\n",
       "      <td>100</td>\n",
       "    </tr>\n",
       "    <tr>\n",
       "      <th>2</th>\n",
       "      <td>0</td>\n",
       "      <td>100</td>\n",
       "      <td>100</td>\n",
       "      <td>100</td>\n",
       "    </tr>\n",
       "    <tr>\n",
       "      <th>3</th>\n",
       "      <td>0</td>\n",
       "      <td>100</td>\n",
       "      <td>100</td>\n",
       "      <td>100</td>\n",
       "    </tr>\n",
       "    <tr>\n",
       "      <th>4</th>\n",
       "      <td>0</td>\n",
       "      <td>100</td>\n",
       "      <td>100</td>\n",
       "      <td>100</td>\n",
       "    </tr>\n",
       "    <tr>\n",
       "      <th>...</th>\n",
       "      <td>...</td>\n",
       "      <td>...</td>\n",
       "      <td>...</td>\n",
       "      <td>...</td>\n",
       "    </tr>\n",
       "    <tr>\n",
       "      <th>996</th>\n",
       "      <td>74</td>\n",
       "      <td>82</td>\n",
       "      <td>89</td>\n",
       "      <td>55</td>\n",
       "    </tr>\n",
       "    <tr>\n",
       "      <th>997</th>\n",
       "      <td>74</td>\n",
       "      <td>82</td>\n",
       "      <td>89</td>\n",
       "      <td>55</td>\n",
       "    </tr>\n",
       "    <tr>\n",
       "      <th>998</th>\n",
       "      <td>74</td>\n",
       "      <td>82</td>\n",
       "      <td>89</td>\n",
       "      <td>55</td>\n",
       "    </tr>\n",
       "    <tr>\n",
       "      <th>999</th>\n",
       "      <td>74</td>\n",
       "      <td>82</td>\n",
       "      <td>89</td>\n",
       "      <td>55</td>\n",
       "    </tr>\n",
       "    <tr>\n",
       "      <th>1000</th>\n",
       "      <td>74</td>\n",
       "      <td>82</td>\n",
       "      <td>89</td>\n",
       "      <td>55</td>\n",
       "    </tr>\n",
       "  </tbody>\n",
       "</table>\n",
       "<p>1001 rows × 4 columns</p>\n",
       "</div>"
      ],
      "text/plain": [
       "      Home  Loc 1  Loc 2  Loc 3\n",
       "0        0    100    100    100\n",
       "1        0    100    100    100\n",
       "2        0    100    100    100\n",
       "3        0    100    100    100\n",
       "4        0    100    100    100\n",
       "...    ...    ...    ...    ...\n",
       "996     74     82     89     55\n",
       "997     74     82     89     55\n",
       "998     74     82     89     55\n",
       "999     74     82     89     55\n",
       "1000    74     82     89     55\n",
       "\n",
       "[1001 rows x 4 columns]"
      ]
     },
     "execution_count": 9,
     "metadata": {},
     "output_type": "execute_result"
    }
   ],
   "source": [
    "results"
   ]
  },
  {
   "cell_type": "code",
   "execution_count": 10,
   "id": "499c017a",
   "metadata": {
    "execution": {
     "iopub.execute_input": "2024-10-29T13:34:36.600683Z",
     "iopub.status.busy": "2024-10-29T13:34:36.599728Z",
     "iopub.status.idle": "2024-10-29T13:34:38.609255Z",
     "shell.execute_reply": "2024-10-29T13:34:38.607982Z"
    },
    "papermill": {
     "duration": 2.021155,
     "end_time": "2024-10-29T13:34:38.611989",
     "exception": false,
     "start_time": "2024-10-29T13:34:36.590834",
     "status": "completed"
    },
    "tags": []
   },
   "outputs": [
    {
     "data": {
      "image/png": "[encoded data removed]"
     },
     "metadata": {
      "image/png": {
       "height": 480,
       "width": 640
      }
     },
     "output_type": "display_data"
    }
   ],
   "source": [
    "results[\"time\"] = np.linspace(0, len(results) - 1, len(results))\n",
    "resultsmelt = pd.melt(results, id_vars=[\"time\"], value_vars=[\"Home\",\"Loc 1\",\"Loc 2\",\"Loc 3\"])\n",
    "\n",
    "(\n",
    "    ggplot(resultsmelt, aes(x=\"time\", y=\"value\", color=\"variable\"))\n",
    "    + geom_line()\n",
    ")"
   ]
  },
  {
   "cell_type": "code",
   "execution_count": null,
   "id": "ceafb42f",
   "metadata": {
    "papermill": {
     "duration": 0.007286,
     "end_time": "2024-10-29T13:34:38.627218",
     "exception": false,
     "start_time": "2024-10-29T13:34:38.619932",
     "status": "completed"
    },
    "tags": []
   },
   "outputs": [],
   "source": []
  }
 ],
 "metadata": {
  "kaggle": {
   "accelerator": "none",
   "dataSources": [],
   "dockerImageVersionId": 30786,
   "isGpuEnabled": false,
   "isInternetEnabled": true,
   "language": "python",
   "sourceType": "notebook"
  },
  "kernelspec": {
   "display_name": "Python 3",
   "language": "python",
   "name": "python3"
  },
  "language_info": {
   "codemirror_mode": {
    "name": "ipython",
    "version": 3
   },
   "file_extension": ".py",
   "mimetype": "text/x-python",
   "name": "python",
   "nbconvert_exporter": "python",
   "pygments_lexer": "ipython3",
   "version": "3.10.14"
  },
  "papermill": {
   "default_parameters": {},
   "duration": 62.227544,
   "end_time": "2024-10-29T13:34:39.358479",
   "environment_variables": {},
   "exception": null,
   "input_path": "__notebook__.ipynb",
   "output_path": "__notebook__.ipynb",
   "parameters": {},
   "start_time": "2024-10-29T13:33:37.130935",
   "version": "2.6.0"
  }
 },
 "nbformat": 4,
 "nbformat_minor": 5
}
