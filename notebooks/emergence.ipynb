{
 "cells": [
  {
   "cell_type": "code",
   "execution_count": 1,
   "metadata": {},
   "outputs": [],
   "source": [
    "from concurrent.futures import ProcessPoolExecutor, as_completed\n",
    "import numpy as np\n",
    "import pandas as pd\n",
    "import matplotlib.pyplot as plt\n",
    "import powerlaw\n",
    "from tqdm.notebook import tqdm\n",
    "import sys\n",
    "import os\n",
    "\n",
    "# Add the parent directory (where 'ants' is located) to sys.path\n",
    "sys.path.append(os.path.abspath(os.path.join(os.getcwd(), '..')))\n",
    "\n",
    "from ants.model import AntWorld\n",
    "from ants.agent import Environment, Ant, Food, Home, Predator\n",
    "from functools import reduce"
   ]
  },
  {
   "cell_type": "markdown",
   "metadata": {},
   "source": [
    "### Phase transition exploration-exploitation?"
   ]
  },
  {
   "cell_type": "code",
   "execution_count": 2,
   "metadata": {},
   "outputs": [],
   "source": [
    "height = 50\n",
    "width = 50\n",
    "\n",
    "random_move_probs = np.linspace(0.0, 1.0, 10)\n",
    "trials_per_setting = 5"
   ]
  },
  {
   "cell_type": "code",
   "execution_count": 4,
   "metadata": {},
   "outputs": [],
   "source": [
    "def run_many_simulations(prob):\n",
    "\n",
    "    results = []\n",
    "    # for prob in tqdm(random_move_probs, desc=\"Running simulations\"):\n",
    "\n",
    "    food_collected = []\n",
    "    surviving_ants = []\n",
    "    \n",
    "    for _ in range(trials_per_setting):\n",
    "\n",
    "        model = AntWorld(height=height, width=width, prob_random=prob, num_predators=0)\n",
    "        model.run_model()\n",
    "\n",
    "        food_collected.append(model.home.amount)\n",
    "        surviving_ants.append(sum(1 for agent in model.schedule.agents if isinstance(agent, Ant)))\n",
    "    \n",
    "    avg_food_collected = np.mean(food_collected)\n",
    "    sem_food_collected = np.std(food_collected) / np.sqrt(trials_per_setting)\n",
    "    ci_lower_food = avg_food_collected - 1.96 * sem_food_collected\n",
    "    ci_upper_food = avg_food_collected + 1.96 * sem_food_collected\n",
    "\n",
    "    avg_surviving_ants = np.mean(surviving_ants)\n",
    "    sem_surviving_ants = np.std(surviving_ants) / np.sqrt(trials_per_setting)\n",
    "    ci_lower_ants = avg_surviving_ants - 1.96 * sem_surviving_ants\n",
    "    ci_upper_ants = avg_surviving_ants + 1.96 * sem_surviving_ants\n",
    "\n",
    "    results.append({\n",
    "        'prob_random': prob,\n",
    "        'avg_food_collected': avg_food_collected,\n",
    "        'ci_lower_food': ci_lower_food,\n",
    "        'ci_upper_food': ci_upper_food,\n",
    "        'avg_surviving_ants': avg_surviving_ants,\n",
    "        'ci_lower_ants': ci_lower_ants,\n",
    "        'ci_upper_ants': ci_upper_ants\n",
    "    })\n",
    "\n",
    "    return results\n"
   ]
  },
  {
   "cell_type": "code",
   "execution_count": null,
   "metadata": {},
   "outputs": [],
   "source": [
    "random_move_probs = np.linspace(0.0, 1.0, 10)\n",
    "\n",
    "with ProcessPoolExecutor(max_workers=10) as executor:\n",
    "    futures = executor.map(run_many_simulations, random_move_probs)\n",
    "\n",
    "results = list(futures)\n",
    "results = reduce(lambda x, y: x + y, results)"
   ]
  },
  {
   "cell_type": "markdown",
   "metadata": {},
   "source": [
    "## Plot food collected and surviving ants"
   ]
  },
  {
   "cell_type": "code",
   "execution_count": null,
   "metadata": {},
   "outputs": [],
   "source": [
    "prob_random_values = [result['prob_random'] for result in results]\n",
    "avg_food_collected_values = [result['avg_food_collected'] for result in results]\n",
    "ci_lower_food_values = [result['ci_lower_food'] for result in results]\n",
    "ci_upper_food_values = [result['ci_upper_food'] for result in results]\n",
    "\n",
    "avg_surviving_ants_values = [result['avg_surviving_ants'] for result in results]\n",
    "ci_lower_ants_values = [result['ci_lower_ants'] for result in results]\n",
    "ci_upper_ants_values = [result['ci_upper_ants'] for result in results]\n",
    "\n",
    "plt.figure(figsize=(10, 8))\n",
    "\n",
    "plt.plot(prob_random_values, avg_food_collected_values, color='blue', marker='o', label='Average Food Collected')\n",
    "plt.fill_between(prob_random_values, ci_lower_food_values, ci_upper_food_values, color='blue', alpha=0.3)\n",
    "\n",
    "plt.plot(prob_random_values, avg_surviving_ants_values, color='green', marker='o', label='Average Surviving Ants')\n",
    "plt.fill_between(prob_random_values, ci_lower_ants_values, ci_upper_ants_values, color='green', alpha=0.3)\n",
    "\n",
    "plt.title('Effect of Random Move Probability on Food Collected and Surviving Ants')\n",
    "plt.xlabel('Random Move Probability')\n",
    "plt.ylabel('Average Value')\n",
    "plt.legend()\n",
    "plt.grid(True)\n",
    "\n",
    "plt.show()"
   ]
  },
  {
   "cell_type": "markdown",
   "metadata": {},
   "source": [
    "### Powerlaw distribution eaten ants"
   ]
  },
  {
   "cell_type": "code",
   "execution_count": 18,
   "metadata": {},
   "outputs": [],
   "source": [
    "height = 50\n",
    "width = 50\n",
    "trials_per_setting = 20\n",
    "num_predators = 10"
   ]
  },
  {
   "cell_type": "code",
   "execution_count": null,
   "metadata": {},
   "outputs": [],
   "source": [
    "def run_many_ants_eaten(iteration):\n",
    "    ants_eaten_by_predators = []\n",
    "    model = AntWorld(height=height, width=width, num_predators=num_predators)\n",
    "    model.run_model()\n",
    "\n",
    "    for agent in model.schedule.agents:\n",
    "        if isinstance(agent, Predator):\n",
    "            ants_eaten_by_predators.append(agent.ants_eaten)\n",
    "\n",
    "    return ants_eaten_by_predators\n",
    "\n",
    "\n",
    "with ProcessPoolExecutor(max_workers=10) as executor:\n",
    "    futures = executor.map(run_many_ants_eaten, range(trials_per_setting))\n",
    "\n",
    "results = list(futures)\n",
    "ants_eaten_by_predator = reduce(lambda x, y: x + y, results)"
   ]
  },
  {
   "cell_type": "markdown",
   "metadata": {},
   "source": [
    "## Distribution of ants eaten by predator"
   ]
  },
  {
   "cell_type": "code",
   "execution_count": null,
   "metadata": {},
   "outputs": [],
   "source": [
    "plt.figure(figsize=(8, 6))\n",
    "plt.hist(ants_eaten_by_predator, bins=10, density=True, alpha=0.7, color='blue')\n",
    "plt.title(\"Distribution of Ants Eaten by Predators\")\n",
    "plt.xlabel(\"Number of Ants Eaten\")\n",
    "plt.ylabel(\"Frequency\")\n",
    "plt.grid(True)\n",
    "plt.show()"
   ]
  },
  {
   "cell_type": "code",
   "execution_count": null,
   "metadata": {},
   "outputs": [],
   "source": [
    "ants_eaten_by_predators"
   ]
  },
  {
   "cell_type": "code",
   "execution_count": null,
   "metadata": {},
   "outputs": [],
   "source": [
    "# Fit a power law\n",
    "results = powerlaw.Fit(ants_eaten_by_predators)\n",
    "\n",
    "plt.figure(figsize=(8, 6))\n",
    "results.plot_pdf(color='blue', linestyle='-', label='Empirical Data')\n",
    "results.power_law.plot_pdf(color='red', linestyle='--', label='Power Law Fit')\n",
    "plt.title(\"Power Law Fit of Ants Eaten Distribution\")\n",
    "plt.xlabel(\"Number of Ants Eaten\")\n",
    "plt.ylabel(\"Probability Density\")\n",
    "plt.legend()\n",
    "plt.grid(True)\n",
    "plt.show()"
   ]
  },
  {
   "cell_type": "markdown",
   "metadata": {},
   "source": [
    "### Meal sizes"
   ]
  },
  {
   "cell_type": "code",
   "execution_count": 5,
   "metadata": {},
   "outputs": [],
   "source": [
    "height = 50\n",
    "width = 50\n",
    "num_predators = 1"
   ]
  },
  {
   "cell_type": "code",
   "execution_count": null,
   "metadata": {},
   "outputs": [],
   "source": [
    "model = AntWorld(height=height, width=width, num_predators=num_predators)\n",
    "model.run_model()\n",
    "\n",
    "for agent in model.schedule.agents:\n",
    "    if isinstance(agent, Predator):\n",
    "            meal_sizes = agent.meal_sizes"
   ]
  },
  {
   "cell_type": "code",
   "execution_count": null,
   "metadata": {},
   "outputs": [],
   "source": [
    "plt.figure(figsize=(8, 6))\n",
    "plt.hist(meal_sizes, bins=10, density=True, alpha=0.7, color='blue')\n",
    "plt.title(\"Distribution of Meal Sizes\")\n",
    "plt.xlabel(\"Number of Ants Eaten\")\n",
    "plt.ylabel(\"Frequency\")\n",
    "plt.grid(True)\n",
    "plt.show()"
   ]
  },
  {
   "cell_type": "code",
   "execution_count": null,
   "metadata": {},
   "outputs": [],
   "source": [
    "# Fit a power law\n",
    "results = powerlaw.Fit(meal_sizes)\n",
    "\n",
    "plt.figure(figsize=(8, 6))\n",
    "results.plot_pdf(color='blue', linestyle='-', label='Empirical Data')\n",
    "results.power_law.plot_pdf(color='red', linestyle='--', label='Power Law Fit')\n",
    "plt.title(\"Power Law Fit of Ants Eaten Distribution\")\n",
    "plt.xlabel(\"Number of Ants Eaten\")\n",
    "plt.ylabel(\"Probability Density\")\n",
    "plt.legend()\n",
    "plt.grid(True)\n",
    "plt.show()"
   ]
  }
 ],
 "metadata": {
  "kernelspec": {
   "display_name": "base",
   "language": "python",
   "name": "python3"
  },
  "language_info": {
   "codemirror_mode": {
    "name": "ipython",
    "version": 3
   },
   "file_extension": ".py",
   "mimetype": "text/x-python",
   "name": "python",
   "nbconvert_exporter": "python",
   "pygments_lexer": "ipython3",
   "version": "3.11.8"
  }
 },
 "nbformat": 4,
 "nbformat_minor": 2
}
