{
 "cells": [
  {
   "cell_type": "code",
   "execution_count": 5,
   "metadata": {},
   "outputs": [],
   "source": [
    "import numpy as np\n",
    "import os\n",
    "import json\n",
    "import pandas as pd\n",
    "import matplotlib.pyplot as plt\n",
    "import powerlaw\n",
    "import itertools\n",
    "from tqdm.notebook import tqdm\n",
    "from ants.model import AntWorld\n",
    "from ants.agent import Environment, Ant, Food, Home, Predator\n",
    "from ants.config import WIDTH, HEIGHT, EVAPORATE, DIFFUSION, INITDROP, LOWERBOUND, PROB_RANDOM, DROP_RATE, DECAY_RATE, MAX_STEPS_WITHOUT_FOOD, BIRTH_RATE, CONSUMPTION_RATE, CARRYING_CAPACITY, NUM_PREDATORS, NUM_FOOD_LOCS, NUM_ANTS, MAX_STEPS_WITHOUT_ANTS, REPRODUCTION_THRESHOLD, PREDATOR_LIFETIME\n",
    "\n",
    "import warnings\n",
    "warnings.filterwarnings('ignore')"
   ]
  },
  {
   "cell_type": "code",
   "execution_count": 26,
   "metadata": {},
   "outputs": [],
   "source": [
    "def run_simulation(params, max_steps, output_dir=\"simulation_results\"):\n",
    "    os.makedirs(output_dir, exist_ok=True)\n",
    "    \n",
    "    model = AntWorld(**params)\n",
    "    \n",
    "    meal_sizes = []\n",
    "    ant_population = []\n",
    "    predator_population = []\n",
    "    \n",
    "    for step in tqdm(range(max_steps), desc=\"Simulation Progress\", unit=\"step\"):\n",
    "        model.step()\n",
    "        ant_population.append(len([agent for agent in model.schedule.agents if isinstance(agent, Ant)]))\n",
    "        predator_population.append(len([agent for agent in model.schedule.agents if isinstance(agent, Predator)]))\n",
    "\n",
    "        if not model.running:\n",
    "            break\n",
    "    \n",
    "    for agent in model.all_predators:\n",
    "        if isinstance(agent, Predator):\n",
    "            meal_sizes.extend(agent.meal_sizes)\n",
    "    \n",
    "    run_id = f\"run_{len(os.listdir(output_dir)) + 1:03d}\"\n",
    "    run_dir = os.path.join(output_dir, run_id)\n",
    "    os.makedirs(run_dir, exist_ok=True)\n",
    "    \n",
    "    with open(os.path.join(run_dir, \"metadata.json\"), \"w\") as f:\n",
    "        json.dump(params, f, indent=4)\n",
    "    \n",
    "    np.save(os.path.join(run_dir, 'meal_sizes.npy'), meal_sizes)\n",
    "    np.save(os.path.join(run_dir, 'ant_population.npy'), ant_population)\n",
    "    np.save(os.path.join(run_dir, 'predator_population.npy'), predator_population)\n",
    "\n",
    "    print(f\"Simulation saved to {run_dir}\")"
   ]
  },
  {
   "cell_type": "markdown",
   "metadata": {},
   "source": [
    "### Set parameters"
   ]
  },
  {
   "cell_type": "code",
   "execution_count": 27,
   "metadata": {},
   "outputs": [],
   "source": [
    "folder = \"simulation_results\"\n",
    "\n",
    "max_steps = 10000\n",
    "repetitions = 10\n",
    "\n",
    "params = {\n",
    "    \"height\": HEIGHT,\n",
    "    \"width\": WIDTH,\n",
    "    \"evaporate\": EVAPORATE,\n",
    "    \"diffusion\": DIFFUSION,\n",
    "    \"initdrop\": INITDROP,\n",
    "    \"lowerbound\": LOWERBOUND,\n",
    "    \"prob_random\": PROB_RANDOM,\n",
    "    \"drop_rate\": DROP_RATE,\n",
    "    \"decay_rate\": DECAY_RATE,\n",
    "    \"max_steps_without_food\": MAX_STEPS_WITHOUT_FOOD,\n",
    "    \"birth_rate\": BIRTH_RATE,\n",
    "    \"consumption_rate\": CONSUMPTION_RATE,\n",
    "    \"carrying_capacity\": CARRYING_CAPACITY,\n",
    "    \"num_predators\": NUM_PREDATORS,\n",
    "    \"num_food_locs\": NUM_FOOD_LOCS,\n",
    "    \"num_ants\": NUM_ANTS,\n",
    "    \"max_steps_without_ants\": MAX_STEPS_WITHOUT_ANTS,\n",
    "    \"reproduction_threshold\": REPRODUCTION_THRESHOLD,\n",
    "    \"predator_lifetime\": PREDATOR_LIFETIME\n",
    "}"
   ]
  },
  {
   "cell_type": "markdown",
   "metadata": {},
   "source": [
    "### Run simulations"
   ]
  },
  {
   "cell_type": "code",
   "execution_count": 28,
   "metadata": {},
   "outputs": [
    {
     "data": {
      "application/vnd.jupyter.widget-view+json": {
       "model_id": "d915130437a640a5977f6a078dcb7fb6",
       "version_major": 2,
       "version_minor": 0
      },
      "text/plain": [
       "Running simulations:   0%|          | 0/10 [00:00<?, ?it/s]"
      ]
     },
     "metadata": {},
     "output_type": "display_data"
    },
    {
     "name": "stdout",
     "output_type": "stream",
     "text": [
      "Making World\n"
     ]
    },
    {
     "data": {
      "application/vnd.jupyter.widget-view+json": {
       "model_id": "5f898a3bb93743d29f5b9cb614315de8",
       "version_major": 2,
       "version_minor": 0
      },
      "text/plain": [
       "Simulation Progress:   0%|          | 0/10000 [00:00<?, ?step/s]"
      ]
     },
     "metadata": {},
     "output_type": "display_data"
    },
    {
     "name": "stdout",
     "output_type": "stream",
     "text": [
      "Stopping: No predators left\n",
      "Simulation saved to simulation_results\\run_011\n",
      "Making World\n"
     ]
    },
    {
     "data": {
      "application/vnd.jupyter.widget-view+json": {
       "model_id": "49d49190ec4d4aaeb5de062522b90f36",
       "version_major": 2,
       "version_minor": 0
      },
      "text/plain": [
       "Simulation Progress:   0%|          | 0/10000 [00:00<?, ?step/s]"
      ]
     },
     "metadata": {},
     "output_type": "display_data"
    },
    {
     "ename": "AttributeError",
     "evalue": "'Predator' object has no attribute 'meals_eaten'",
     "output_type": "error",
     "traceback": [
      "\u001b[1;31m---------------------------------------------------------------------------\u001b[0m",
      "\u001b[1;31mAttributeError\u001b[0m                            Traceback (most recent call last)",
      "Cell \u001b[1;32mIn[28], line 2\u001b[0m\n\u001b[0;32m      1\u001b[0m \u001b[38;5;28;01mfor\u001b[39;00m rep \u001b[38;5;129;01min\u001b[39;00m tqdm(\u001b[38;5;28mrange\u001b[39m(\u001b[38;5;241m1\u001b[39m,repetitions\u001b[38;5;241m+\u001b[39m\u001b[38;5;241m1\u001b[39m), desc\u001b[38;5;241m=\u001b[39m\u001b[38;5;124m\"\u001b[39m\u001b[38;5;124mRunning simulations\u001b[39m\u001b[38;5;124m\"\u001b[39m):\n\u001b[1;32m----> 2\u001b[0m     \u001b[43mrun_simulation\u001b[49m\u001b[43m(\u001b[49m\u001b[43mparams\u001b[49m\u001b[43m,\u001b[49m\u001b[43m \u001b[49m\u001b[43mmax_steps\u001b[49m\u001b[43m,\u001b[49m\u001b[43m \u001b[49m\u001b[43moutput_dir\u001b[49m\u001b[38;5;241;43m=\u001b[39;49m\u001b[43mfolder\u001b[49m\u001b[43m)\u001b[49m\n",
      "Cell \u001b[1;32mIn[26], line 20\u001b[0m, in \u001b[0;36mrun_simulation\u001b[1;34m(params, max_steps, output_dir)\u001b[0m\n\u001b[0;32m     18\u001b[0m \u001b[38;5;28;01mfor\u001b[39;00m agent \u001b[38;5;129;01min\u001b[39;00m model\u001b[38;5;241m.\u001b[39mschedule\u001b[38;5;241m.\u001b[39magents:\n\u001b[0;32m     19\u001b[0m     \u001b[38;5;28;01mif\u001b[39;00m \u001b[38;5;28misinstance\u001b[39m(agent, Predator):\n\u001b[1;32m---> 20\u001b[0m         \u001b[38;5;28mprint\u001b[39m(\u001b[38;5;124mf\u001b[39m\u001b[38;5;124m\"\u001b[39m\u001b[38;5;124mPredator \u001b[39m\u001b[38;5;132;01m{\u001b[39;00magent\u001b[38;5;241m.\u001b[39munique_id\u001b[38;5;132;01m}\u001b[39;00m\u001b[38;5;124m ate \u001b[39m\u001b[38;5;132;01m{\u001b[39;00m\u001b[43magent\u001b[49m\u001b[38;5;241;43m.\u001b[39;49m\u001b[43mmeals_eaten\u001b[49m\u001b[38;5;132;01m}\u001b[39;00m\u001b[38;5;124m meals\u001b[39m\u001b[38;5;124m\"\u001b[39m)\n\u001b[0;32m     21\u001b[0m         meal_sizes\u001b[38;5;241m.\u001b[39mextend(agent\u001b[38;5;241m.\u001b[39mmeal_sizes)\n\u001b[0;32m     23\u001b[0m run_id \u001b[38;5;241m=\u001b[39m \u001b[38;5;124mf\u001b[39m\u001b[38;5;124m\"\u001b[39m\u001b[38;5;124mrun_\u001b[39m\u001b[38;5;132;01m{\u001b[39;00m\u001b[38;5;28mlen\u001b[39m(os\u001b[38;5;241m.\u001b[39mlistdir(output_dir))\u001b[38;5;250m \u001b[39m\u001b[38;5;241m+\u001b[39m\u001b[38;5;250m \u001b[39m\u001b[38;5;241m1\u001b[39m\u001b[38;5;132;01m:\u001b[39;00m\u001b[38;5;124m03d\u001b[39m\u001b[38;5;132;01m}\u001b[39;00m\u001b[38;5;124m\"\u001b[39m\n",
      "\u001b[1;31mAttributeError\u001b[0m: 'Predator' object has no attribute 'meals_eaten'"
     ]
    }
   ],
   "source": [
    "for rep in tqdm(range(1,repetitions+1), desc=\"Running simulations\"):\n",
    "    run_simulation(params, max_steps, output_dir=folder)"
   ]
  },
  {
   "cell_type": "markdown",
   "metadata": {},
   "source": [
    "### Load simulation results (and plot results)"
   ]
  },
  {
   "cell_type": "code",
   "execution_count": 25,
   "metadata": {},
   "outputs": [
    {
     "name": "stdout",
     "output_type": "stream",
     "text": [
      "simulation_results/run_004\n"
     ]
    },
    {
     "data": {
      "text/plain": [
       "array([], dtype=float64)"
      ]
     },
     "execution_count": 25,
     "metadata": {},
     "output_type": "execute_result"
    }
   ],
   "source": [
    "#open f\"{run_dir}/meal_sizes.npy\n",
    "run_dir = f\"{folder}/run_{str(4).zfill(3)}\"\n",
    "print(run_dir)\n",
    "np.load(f\"{run_dir}/meal_sizes.npy\")"
   ]
  },
  {
   "cell_type": "code",
   "execution_count": 17,
   "metadata": {},
   "outputs": [
    {
     "name": "stdout",
     "output_type": "stream",
     "text": [
      "[]\n",
      "[]\n",
      "[]\n",
      "[]\n",
      "[]\n",
      "[]\n",
      "[]\n",
      "[]\n",
      "[]\n",
      "[]\n",
      "[]\n"
     ]
    },
    {
     "data": {
      "image/png": "[encoded data removed]",
      "text/plain": [
       "<Figure size 800x600 with 1 Axes>"
      ]
     },
     "metadata": {},
     "output_type": "display_data"
    }
   ],
   "source": [
    "meal_sizes = []\n",
    "\n",
    "for run in range(1,repetitions+1):\n",
    "    run_dir = f\"{folder}/run_{str(run).zfill(3)}\"\n",
    "    #print (f\"{run_dir}/meal_sizes.npy\")\n",
    "    print(np.load(f\"{run_dir}/meal_sizes.npy\"))\n",
    "    meal_sizes.extend(np.load(f\"{run_dir}/meal_sizes.npy\"))\n",
    "\n",
    "meal_sizes = [meal for meal in meal_sizes if meal > 0]\n",
    "\n",
    "plt.figure(figsize=(8, 6))\n",
    "plt.hist(meal_sizes, bins=50, density=False, color='blue', alpha=0.7)\n",
    "plt.xlabel('Meal Size')\n",
    "plt.ylabel('Frequency')\n",
    "plt.title('Histogram of Meal Sizes')\n",
    "plt.show()"
   ]
  },
  {
   "cell_type": "markdown",
   "metadata": {},
   "source": [
    "### Fit powerlaw"
   ]
  },
  {
   "cell_type": "code",
   "execution_count": 10,
   "metadata": {},
   "outputs": [
    {
     "name": "stdout",
     "output_type": "stream",
     "text": [
      "Calculating best minimal value for power law fit\n",
      "Estimated alpha: nan\n"
     ]
    },
    {
     "name": "stderr",
     "output_type": "stream",
     "text": [
      "Less than 2 unique data values left after xmin and xmax options! Cannot fit. Returning nans.\n",
      "Not enough data. Returning nan\n",
      "Not enough data. Returning nan\n",
      "No valid fits found.\n",
      "Not enough data. Returning nan\n"
     ]
    },
    {
     "name": "stdout",
     "output_type": "stream",
     "text": [
      "Log-likelihood ratio: 0\n",
      "P-value for comparison: 1\n",
      "Exponential fit is as good or better than power law fit\n"
     ]
    },
    {
     "ename": "ValueError",
     "evalue": "max() arg is an empty sequence",
     "output_type": "error",
     "traceback": [
      "\u001b[1;31m---------------------------------------------------------------------------\u001b[0m",
      "\u001b[1;31mValueError\u001b[0m                                Traceback (most recent call last)",
      "Cell \u001b[1;32mIn[10], line 16\u001b[0m\n\u001b[0;32m     13\u001b[0m     \u001b[38;5;28mprint\u001b[39m(\u001b[38;5;124m\"\u001b[39m\u001b[38;5;124mExponential fit is as good or better than power law fit\u001b[39m\u001b[38;5;124m\"\u001b[39m)\n\u001b[0;32m     15\u001b[0m plt\u001b[38;5;241m.\u001b[39mfigure(figsize\u001b[38;5;241m=\u001b[39m(\u001b[38;5;241m8\u001b[39m, \u001b[38;5;241m6\u001b[39m))\n\u001b[1;32m---> 16\u001b[0m \u001b[43mfit\u001b[49m\u001b[38;5;241;43m.\u001b[39;49m\u001b[43mplot_pdf\u001b[49m\u001b[43m(\u001b[49m\u001b[43mcolor\u001b[49m\u001b[38;5;241;43m=\u001b[39;49m\u001b[38;5;124;43m'\u001b[39;49m\u001b[38;5;124;43mblue\u001b[39;49m\u001b[38;5;124;43m'\u001b[39;49m\u001b[43m,\u001b[49m\u001b[43m \u001b[49m\u001b[43mlinestyle\u001b[49m\u001b[38;5;241;43m=\u001b[39;49m\u001b[38;5;124;43m'\u001b[39;49m\u001b[38;5;124;43m-\u001b[39;49m\u001b[38;5;124;43m'\u001b[39;49m\u001b[43m,\u001b[49m\u001b[43m \u001b[49m\u001b[43mmarker\u001b[49m\u001b[38;5;241;43m=\u001b[39;49m\u001b[38;5;124;43m'\u001b[39;49m\u001b[38;5;124;43mo\u001b[39;49m\u001b[38;5;124;43m'\u001b[39;49m\u001b[43m,\u001b[49m\u001b[43m \u001b[49m\u001b[43mlabel\u001b[49m\u001b[38;5;241;43m=\u001b[39;49m\u001b[38;5;124;43m'\u001b[39;49m\u001b[38;5;124;43mEmpirical Data\u001b[39;49m\u001b[38;5;124;43m'\u001b[39;49m\u001b[43m)\u001b[49m\n\u001b[0;32m     17\u001b[0m fit\u001b[38;5;241m.\u001b[39mpower_law\u001b[38;5;241m.\u001b[39mplot_pdf(color\u001b[38;5;241m=\u001b[39m\u001b[38;5;124m'\u001b[39m\u001b[38;5;124mred\u001b[39m\u001b[38;5;124m'\u001b[39m, linestyle\u001b[38;5;241m=\u001b[39m\u001b[38;5;124m'\u001b[39m\u001b[38;5;124m--\u001b[39m\u001b[38;5;124m'\u001b[39m, label\u001b[38;5;241m=\u001b[39m\u001b[38;5;124m'\u001b[39m\u001b[38;5;124mPower Law Fit\u001b[39m\u001b[38;5;124m'\u001b[39m)\n\u001b[0;32m     18\u001b[0m plt\u001b[38;5;241m.\u001b[39mxlabel(\u001b[38;5;124m\"\u001b[39m\u001b[38;5;124mMeal size\u001b[39m\u001b[38;5;124m\"\u001b[39m)\n",
      "File \u001b[1;32mc:\\Users\\gaspe\\AppData\\Local\\Programs\\Python\\Python310\\lib\\site-packages\\powerlaw.py:535\u001b[0m, in \u001b[0;36mFit.plot_pdf\u001b[1;34m(self, ax, original_data, linear_bins, **kwargs)\u001b[0m\n\u001b[0;32m    533\u001b[0m \u001b[38;5;28;01melse\u001b[39;00m:\n\u001b[0;32m    534\u001b[0m     data \u001b[38;5;241m=\u001b[39m \u001b[38;5;28mself\u001b[39m\u001b[38;5;241m.\u001b[39mdata\n\u001b[1;32m--> 535\u001b[0m \u001b[38;5;28;01mreturn\u001b[39;00m plot_pdf(data, ax\u001b[38;5;241m=\u001b[39max, linear_bins\u001b[38;5;241m=\u001b[39mlinear_bins, \u001b[38;5;241m*\u001b[39m\u001b[38;5;241m*\u001b[39mkwargs)\n",
      "File \u001b[1;32mc:\\Users\\gaspe\\AppData\\Local\\Programs\\Python\\Python310\\lib\\site-packages\\powerlaw.py:2083\u001b[0m, in \u001b[0;36mplot_pdf\u001b[1;34m(data, ax, linear_bins, **kwargs)\u001b[0m\n\u001b[0;32m   2064\u001b[0m \u001b[38;5;28;01mdef\u001b[39;00m \u001b[38;5;21mplot_pdf\u001b[39m(data, ax\u001b[38;5;241m=\u001b[39m\u001b[38;5;28;01mNone\u001b[39;00m, linear_bins\u001b[38;5;241m=\u001b[39m\u001b[38;5;28;01mFalse\u001b[39;00m, \u001b[38;5;241m*\u001b[39m\u001b[38;5;241m*\u001b[39mkwargs):\n\u001b[0;32m   2065\u001b[0m \u001b[38;5;250m    \u001b[39m\u001b[38;5;124;03m\"\"\"\u001b[39;00m\n\u001b[0;32m   2066\u001b[0m \u001b[38;5;124;03m    Plots the probability density function (PDF) to a new figure or to axis ax\u001b[39;00m\n\u001b[0;32m   2067\u001b[0m \u001b[38;5;124;03m    if provided.\u001b[39;00m\n\u001b[1;32m   (...)\u001b[0m\n\u001b[0;32m   2081\u001b[0m \u001b[38;5;124;03m        The axis to which the plot was made.\u001b[39;00m\n\u001b[0;32m   2082\u001b[0m \u001b[38;5;124;03m    \"\"\"\u001b[39;00m\n\u001b[1;32m-> 2083\u001b[0m     edges, hist \u001b[38;5;241m=\u001b[39m pdf(data, linear_bins\u001b[38;5;241m=\u001b[39mlinear_bins, \u001b[38;5;241m*\u001b[39m\u001b[38;5;241m*\u001b[39mkwargs)\n\u001b[0;32m   2084\u001b[0m     bin_centers \u001b[38;5;241m=\u001b[39m (edges[\u001b[38;5;241m1\u001b[39m:]\u001b[38;5;241m+\u001b[39medges[:\u001b[38;5;241m-\u001b[39m\u001b[38;5;241m1\u001b[39m])\u001b[38;5;241m/\u001b[39m\u001b[38;5;241m2.0\u001b[39m\n\u001b[0;32m   2085\u001b[0m     \u001b[38;5;28;01mfrom\u001b[39;00m \u001b[38;5;21;01mnumpy\u001b[39;00m \u001b[38;5;28;01mimport\u001b[39;00m nan\n",
      "File \u001b[1;32mc:\\Users\\gaspe\\AppData\\Local\\Programs\\Python\\Python310\\lib\\site-packages\\powerlaw.py:1960\u001b[0m, in \u001b[0;36mpdf\u001b[1;34m(data, xmin, xmax, linear_bins, **kwargs)\u001b[0m\n\u001b[0;32m   1958\u001b[0m data \u001b[38;5;241m=\u001b[39m asarray(data)\n\u001b[0;32m   1959\u001b[0m \u001b[38;5;28;01mif\u001b[39;00m \u001b[38;5;129;01mnot\u001b[39;00m xmax:\n\u001b[1;32m-> 1960\u001b[0m     xmax \u001b[38;5;241m=\u001b[39m \u001b[38;5;28;43mmax\u001b[39;49m\u001b[43m(\u001b[49m\u001b[43mdata\u001b[49m\u001b[43m)\u001b[49m\n\u001b[0;32m   1961\u001b[0m \u001b[38;5;28;01mif\u001b[39;00m \u001b[38;5;129;01mnot\u001b[39;00m xmin:\n\u001b[0;32m   1962\u001b[0m     xmin \u001b[38;5;241m=\u001b[39m \u001b[38;5;28mmin\u001b[39m(data)\n",
      "\u001b[1;31mValueError\u001b[0m: max() arg is an empty sequence"
     ]
    },
    {
     "data": {
      "text/plain": [
       "<Figure size 800x600 with 0 Axes>"
      ]
     },
     "metadata": {},
     "output_type": "display_data"
    }
   ],
   "source": [
    "fit = powerlaw.Fit(meal_sizes)\n",
    "\n",
    "alpha = fit.alpha\n",
    "print(f\"Estimated alpha: {alpha}\")\n",
    "\n",
    "R, p = fit.distribution_compare('power_law', 'exponential')\n",
    "print(f\"Log-likelihood ratio: {R}\")\n",
    "print(f\"P-value for comparison: {p}\")\n",
    "    \n",
    "if p < 0.05:\n",
    "    print(\"Power law fit is better than exponential fit\")\n",
    "else:\n",
    "    print(\"Exponential fit is as good or better than power law fit\")\n",
    "\n",
    "plt.figure(figsize=(8, 6))\n",
    "fit.plot_pdf(color='blue', linestyle='-', marker='o', label='Empirical Data')\n",
    "fit.power_law.plot_pdf(color='red', linestyle='--', label='Power Law Fit')\n",
    "plt.xlabel(\"Meal size\")\n",
    "plt.ylabel(\"Probability Density\")\n",
    "plt.legend()\n",
    "plt.grid(True)\n",
    "plt.show()"
   ]
  }
 ],
 "metadata": {
  "kernelspec": {
   "display_name": "Python 3",
   "language": "python",
   "name": "python3"
  },
  "language_info": {
   "codemirror_mode": {
    "name": "ipython",
    "version": 3
   },
   "file_extension": ".py",
   "mimetype": "text/x-python",
   "name": "python",
   "nbconvert_exporter": "python",
   "pygments_lexer": "ipython3",
   "version": "3.10.11"
  }
 },
 "nbformat": 4,
 "nbformat_minor": 2
}
